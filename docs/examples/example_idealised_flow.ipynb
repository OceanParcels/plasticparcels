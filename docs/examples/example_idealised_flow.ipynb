{
 "cells": [
  {
   "cell_type": "markdown",
   "metadata": {},
   "source": [
    "# Exploring `plasticparcels` physics kernels in an idealised flow\n",
    "In this example, we will use `plasticparcels` and an idealised flow field to explore the different physics kernels available. This example requires no additional data to run.\n",
    "\n",
    "The idealised flow is based on the two-dimensional Bickley Jet flow, where we have included a depth dimension whereby the flow velocities linearly decay with depth. Note that the physical and biogeochemical fields used in this example are unrealistic and are used for demonstration purposes only.\n",
    "\n",
    "We will perform five experiments: 1) negatively buoyant particles advected by the flow alone, 2) positively buoyant particles advected by the flow and wind, 3) negatively buoyant particles advected by the flow, the wind, and waves, 4) negatively buoyant particles advected by the flow and by biofouling, and 5) negatively buoyant particles advected by all processes (flow, wind, waves, and biofouling)."
   ]
  },
  {
   "cell_type": "code",
   "execution_count": 1,
   "metadata": {},
   "outputs": [
    {
     "ename": "type",
     "evalue": "No module named 'plasticparcels'",
     "output_type": "error",
     "traceback": [
      "\u001b[0;31m---------------------------------------------------------------------------\u001b[0m",
      "\u001b[0;31mModuleNotFoundError\u001b[0m                       Traceback (most recent call last)",
      "Cell \u001b[0;32mIn[1], line 7\u001b[0m\n\u001b[1;32m      4\u001b[0m \u001b[38;5;28;01mimport\u001b[39;00m \u001b[38;5;21;01mnumpy\u001b[39;00m \u001b[38;5;28;01mas\u001b[39;00m \u001b[38;5;21;01mnp\u001b[39;00m\n\u001b[1;32m      6\u001b[0m \u001b[38;5;66;03m# parcels and plasticparcels imports\u001b[39;00m\n\u001b[0;32m----> 7\u001b[0m \u001b[38;5;28;01mimport\u001b[39;00m \u001b[38;5;21;01mplasticparcels\u001b[39;00m \u001b[38;5;28;01mas\u001b[39;00m \u001b[38;5;21;01mpp\u001b[39;00m\n\u001b[1;32m      8\u001b[0m \u001b[38;5;28;01mimport\u001b[39;00m \u001b[38;5;21;01mparcels\u001b[39;00m\n\u001b[1;32m     10\u001b[0m \u001b[38;5;66;03m# Plotting imports\u001b[39;00m\n",
      "\u001b[0;31mModuleNotFoundError\u001b[0m: No module named 'plasticparcels'"
     ]
    }
   ],
   "source": [
    "# Library imports\n",
    "from datetime import datetime, timedelta\n",
    "import xarray as xr\n",
    "import numpy as np\n",
    "\n",
    "# parcels and plasticparcels imports\n",
    "import plasticparcels as pp\n",
    "import parcels\n",
    "\n",
    "# Plotting imports\n",
    "import matplotlib.pyplot as plt\n",
    "\n",
    "import warnings\n",
    "warnings.filterwarnings(\"ignore\")"
   ]
  },
  {
   "cell_type": "markdown",
   "metadata": {},
   "source": [
    "## Create an idealised flow\n",
    "Here, we create a 3D version of the Bickley Jet (see [Hadjighasem et al (2017)](https://aip.scitation.org/doi/10.1063/1.4982720) for details), where the velocities linearly decay with depth. In order to compute a settling velocity of plastic particles (via density differences), we create a spatially-uniform temperature and salinity field. We also include spatiotemporally varying wind, wave, and biogeochemical fields used for windage drift, Stokes drift, and biofouling kernels, respectively. We also include an 'unbeaching' field, where velocities along the top and bottom of the domain will 'kick-back' any particles that are advected across these two boundaries. The code to generate the idealised flow fields can be found in the `idealised_flow.py` file.\n",
    "\n",
    "Since the flow is periodic in the zonal direction, we write a custom zonal boundary conditions kernel to overwrite the `plasticparcels` periodic boundary condition kernel used for longitudinal coordinates."
   ]
  },
  {
   "cell_type": "code",
   "execution_count": 2,
   "metadata": {},
   "outputs": [],
   "source": [
    "# Load the fieldset\n",
    "fieldset = parcels.FieldSet.from_modulefile('idealised_flow.py')\n",
    "\n",
    "# Add a periodic halo in the zonal direction\n",
    "fieldset.add_constant(\"halo_west\", fieldset.U.grid.lon[0])\n",
    "fieldset.add_constant(\"halo_east\", fieldset.U.grid.lon[-1])\n",
    "fieldset.add_periodic_halo(zonal=True)"
   ]
  },
  {
   "cell_type": "code",
   "execution_count": 3,
   "metadata": {},
   "outputs": [],
   "source": [
    "# Define a custom kernel to handle the periodic boundary conditions\n",
    "def ZonalBC(particle, fieldset, time):\n",
    "    if particle.lon < fieldset.halo_west:\n",
    "        particle_dlon += fieldset.halo_east - fieldset.halo_west\n",
    "    elif particle.lon > fieldset.halo_east:\n",
    "        particle_dlon -= fieldset.halo_east - fieldset.halo_west"
   ]
  },
  {
   "cell_type": "markdown",
   "metadata": {},
   "source": [
    "## Visualise the fields\n",
    "To get a sense of what our idealised flow looks like, we will plot each field at the initial timestep. For 3D fields, we will plot the surface field only."
   ]
  },
  {
   "cell_type": "code",
   "execution_count": null,
   "metadata": {},
   "outputs": [],
   "source": [
    "n_fields = len(fieldset.get_fields())\n",
    "fig, axs = plt.subplots(8, 2, sharex=True, sharey=True, figsize=(8, 13))\n",
    "\n",
    "# Loop over the fields in the fieldset, and plot them if they are Fields (and not VectorFields or NestedFields)\n",
    "j = 0 # Increment if field is valid\n",
    "for i in range(n_fields):\n",
    "    field = fieldset.get_fields()[i]\n",
    "    ax = axs.flatten()[j]\n",
    "\n",
    "    if type(field) == parcels.Field:\n",
    "        lon, lat = np.meshgrid(field.grid.lon, field.grid.lat)\n",
    "        # Plot the surface field, or simply the 2D field\n",
    "        if len(field.data.shape) == 4:\n",
    "            field_data = field.data[0,0,:,:]\n",
    "            axes_title = f'Surface {field.name} field at t=0'\n",
    "        else:\n",
    "            field_data = field.data[0,:,:]\n",
    "            axes_title = f'{field.name} field at t=0'\n",
    "        \n",
    "        # Plot the field\n",
    "        cb = ax.pcolormesh(lon, lat, field_data, cmap=plt.cm.Spectral)\n",
    "        ax.set_title(axes_title, fontsize=7)\n",
    "        plt.colorbar(cb, ax=ax)\n",
    "        j +=1\n",
    "   \n",
    "plt.show()"
   ]
  },
  {
   "cell_type": "markdown",
   "metadata": {},
   "source": [
    "## Create a dictionary of settings\n",
    "As this is an idealised flow example, requiring no additional data, we don't need to import any pre-defined settings file. Instead, we can generate our own dictionary of required settings. For examples where settings dictionaries can be loaded, see some of `plasticparcels` other examples [here](https://plastic.oceanparcels.org/en/latest/examples.html)."
   ]
  },
  {
   "cell_type": "code",
   "execution_count": 5,
   "metadata": {},
   "outputs": [],
   "source": [
    "settings = {}\n",
    "\n",
    "# Create the simulation settings\n",
    "settings['simulation'] = {\n",
    "    'runtime': timedelta(days=4),   # Runtime of simulation\n",
    "    'outputdt': timedelta(hours=6), # Timestep of output\n",
    "    'dt': timedelta(minutes=5),     # Timestep of advection\n",
    "    }\n",
    "\n",
    "# Create the plastic type settings\n",
    "settings['plastictype'] = {\n",
    "    'wind_coefficient' : 0.1,   # Percentage of wind to apply to particles\n",
    "    'plastic_diameter' : 0.001, # Plastic particle diameter (m)\n",
    "    'plastic_density' : 1028.,  # Plastic particle density (kg/m^3)\n",
    "}\n",
    "\n",
    "# Set the biogeochemical model settings. These settings come from median values defined in the literature\n",
    "# For more details, see Kooi et al. (2017) - 10.1021/acs.est.6b04702, Lobelle et al. (2021) - 10.1029/2020JC017098\n",
    "# and Kaandorp et al. (2023) - 10.1038/s41561-023-01216-0\n",
    "settings['bgc'] = {}\n",
    "settings['bgc']['constants'] = {\"biofilm_density\": 1388.0,\n",
    "                                \"algae_cell_volume\": 2e-16,\n",
    "                                \"K\": 1.3805834190672156e-23,\n",
    "                                \"R20\": 1.1574074074074074e-06,\n",
    "                                \"Q10\": 2.13,\n",
    "                                \"Gamma\": 2.0,\n",
    "                                \"carbon_molecular_weight\": 12.0,\n",
    "                                \"collision_probability\": 1.0,\n",
    "                                \"algae_mortality_rate\": 1.0,\n",
    "                                \"algae_respiration_f\": 0.0 # Turn off respiration\n",
    "                                }\n",
    "\n",
    "for key in settings['bgc']['constants']:\n",
    "    fieldset.add_constant(key, settings['bgc']['constants'][key])\n",
    "\n",
    "# Set the physical model settings\n",
    "fieldset.add_constant('use_3D', True)\n",
    "fieldset.add_constant('use_mixing', False)\n",
    "fieldset.add_constant('use_biofouling', True)\n",
    "fieldset.add_constant('use_stokes', True)\n",
    "fieldset.add_constant('use_wind', True)\n",
    "fieldset.add_constant('G', 9.81)  # Gravitational constant [m s-1]\n",
    "fieldset.add_constant('z_start', 0.0)\n",
    "fieldset.add_constant('verbose_delete', 1)"
   ]
  },
  {
   "cell_type": "markdown",
   "metadata": {},
   "source": [
    "## Create release settings\n",
    "For each experiment, we will place 5000 particles at the ocean surface on a rectangular grid."
   ]
  },
  {
   "cell_type": "code",
   "execution_count": 6,
   "metadata": {},
   "outputs": [],
   "source": [
    "# Release settings\n",
    "release_lons, release_lats = np.meshgrid(np.arange(0, 20000, 100), np.arange(-2000, 2000, 50))\n",
    "release_locations = {'lons': release_lons, 'lats': release_lats}"
   ]
  },
  {
   "cell_type": "code",
   "execution_count": 7,
   "metadata": {},
   "outputs": [],
   "source": [
    "# Simulation runtime, time-stepping, and output timestep settings\n",
    "runtime = settings['simulation']['runtime']\n",
    "dt = settings['simulation']['dt']\n",
    "outputdt = settings['simulation']['outputdt']"
   ]
  },
  {
   "cell_type": "code",
   "execution_count": 8,
   "metadata": {},
   "outputs": [],
   "source": [
    "# Create a function that plots the particle positions at the start and end times\n",
    "def plot_particles(pfile):\n",
    "    ''' Function to plot particle positions at the start and end times of the simulation\n",
    "    '''\n",
    "    fig = plt.figure(figsize=(12, 5), constrained_layout=True)\n",
    "    \n",
    "    ax = fig.add_subplot(2,2,1)\n",
    "    ax.set_ylabel('Meridional distance [m]')\n",
    "    ax.set_xlim(0, 2e4)\n",
    "    ax.set_ylim(-2500, 2500)\n",
    "    cb = ax.scatter(pfile['lon'].values[:,0], pfile['lat'].values[:,0], c=pfile['lon'].values[:,0], s=1)\n",
    "    title_time = int(np.nan_to_num(pfile['time'].values[0,0], nan=pfile['time'].values[-1,0])/1e9)\n",
    "    plt.title(f'Particle positions at time {title_time} seconds')\n",
    "    \n",
    "    ax = fig.add_subplot(2,2,3)\n",
    "    ax.set_xlabel('Zonal distance [m]')\n",
    "    ax.set_ylabel('Depth [m]')\n",
    "    ax.set_xlim(0, 2e4)\n",
    "    ax.yaxis.set_inverted(True)\n",
    "    cb = ax.scatter(pfile['lon'].values[:,0], pfile['z'].values[:,0], c=pfile['lon'].values[:,0], s=1)\n",
    "\n",
    "    ax = fig.add_subplot(2,2,2)\n",
    "    ax.set_xlim(0, 2e4)\n",
    "    ax.set_ylim(-2500, 2500)\n",
    "    cb = ax.scatter(pfile['lon'].values[:,-1], pfile['lat'].values[:,-1], c=pfile['lon'].values[:,0], s=1)\n",
    "    plt.colorbar(cb, label='Initial zonal distance [m]')\n",
    "    title_time = int(np.nan_to_num(pfile['time'].values[0,-1], nan=pfile['time'].values[-1,-1])/1e9)\n",
    "    plt.title(f'Particle positions at time {title_time} seconds')\n",
    "    \n",
    "    ax = fig.add_subplot(2,2,4)\n",
    "    ax.set_xlabel('Zonal distance [m]')\n",
    "    ax.set_xlim(0, 2e4)\n",
    "    ax.yaxis.set_inverted(True)\n",
    "    cb = ax.scatter(pfile['lon'].values[:,-1], pfile['z'].values[:,-1], c=pfile['lon'].values[:,0], s=1)\n",
    "    plt.colorbar(cb, label='Initial zonal distance [m]')\n",
    "    \n",
    "    plt.show()"
   ]
  },
  {
   "cell_type": "markdown",
   "metadata": {},
   "source": [
    "## Experiment 1: Idealised flow only\n",
    "In the first experiment we will simulate the dispersion of particles by the idealised flow alone. Of course, there may exist a density difference between the plastic particles and the background flow, resulting in a non-zero settling velocity until the particles become neutrally buoyant. We start by updating the fieldset flags, generating a particleset (and associated particlefile), and a list of kernels. We then execute our simulation and plot the results."
   ]
  },
  {
   "cell_type": "code",
   "execution_count": 9,
   "metadata": {},
   "outputs": [],
   "source": [
    "# Setting this particular experiments settings\n",
    "fieldset.use_3D = True\n",
    "fieldset.use_mixing = False\n",
    "fieldset.use_biofouling = False\n",
    "fieldset.use_stokes = False\n",
    "fieldset.use_wind = False\n",
    "settings['plastictype']['plastic_density'] = 1027.275"
   ]
  },
  {
   "cell_type": "code",
   "execution_count": null,
   "metadata": {},
   "outputs": [],
   "source": [
    "# Create a particle set and particle file for the experiment\n",
    "pset = pp.constructors.create_particleset(fieldset, settings, release_locations)\n",
    "pfile = pp.ParticleFile('example_idealised_flow_experiment_1.zarr', pset, settings=settings, outputdt=outputdt)\n",
    "\n",
    "# Create the applicable kernels to the plastic particles, replacing the longitudinal boundary kernel with a zonal boundary kernel\n",
    "kernels = pp.constructors.create_kernel(fieldset)\n",
    "kernels"
   ]
  },
  {
   "cell_type": "markdown",
   "metadata": {},
   "source": [
    "Note that the default order of `plasticparcels` kernels is to place the periodic boundary conditions kernel in the second last position of the kernels list. Since our domain is not global, we need to replace this kernel with our zonal boundary conditions kernel."
   ]
  },
  {
   "cell_type": "code",
   "execution_count": 11,
   "metadata": {},
   "outputs": [],
   "source": [
    "# Replace the longitudinal boundary kernel with a zonal boundary kernel\n",
    "kernels[-2] = ZonalBC"
   ]
  },
  {
   "cell_type": "code",
   "execution_count": null,
   "metadata": {},
   "outputs": [],
   "source": [
    "# Execute the simulation\n",
    "pset.execute(kernels, runtime=runtime, dt=dt, output_file=pfile)"
   ]
  },
  {
   "cell_type": "code",
   "execution_count": null,
   "metadata": {},
   "outputs": [],
   "source": [
    "# Open the trajectory dataset and plot the particles\n",
    "ds = xr.open_zarr(pfile.fname)\n",
    "plot_particles(ds)"
   ]
  },
  {
   "cell_type": "markdown",
   "metadata": {},
   "source": [
    "## Experiment 2: Idealised flow and wind\n",
    "In this second experiment we will simulate the dispersion of particles by the idealised flow, including the effects of wind. Again, there may exist a density difference between the plastic particles and the background flow, resulting in a non-zero settling velocity until the particles become neutrally buoyant. However, only particles at the surface are affected by the wind, so we will make our particles positively buoyant by initialising them a low density. Since the particles are positively buoyant, they experience a negative settling velocity, that tries to push them through the surface, forcing us to make use of the `CheckErrorThroughSurface` kernel."
   ]
  },
  {
   "cell_type": "code",
   "execution_count": 14,
   "metadata": {},
   "outputs": [],
   "source": [
    "# Setting this particular experiments settings\n",
    "fieldset.use_3D = True\n",
    "fieldset.use_mixing = False\n",
    "fieldset.use_biofouling = False\n",
    "fieldset.use_stokes = False\n",
    "fieldset.use_wind = True\n",
    "\n",
    "settings['plastictype']['plastic_density'] = 1000."
   ]
  },
  {
   "cell_type": "code",
   "execution_count": 15,
   "metadata": {},
   "outputs": [],
   "source": [
    "# Create a particle set and particle file for the experiment\n",
    "pset = pp.constructors.create_particleset(fieldset, settings, release_locations)\n",
    "pfile = pp.ParticleFile('example_idealised_flow_experiment_2.zarr', pset, settings=settings, outputdt=outputdt)\n",
    "\n",
    "# Create the applicable kernels to the plastic particles, replacing the longitudinal boundary kernel with a zonal boundary kernel\n",
    "kernels = pp.constructors.create_kernel(fieldset)\n",
    "kernels[-2] = ZonalBC"
   ]
  },
  {
   "cell_type": "code",
   "execution_count": null,
   "metadata": {},
   "outputs": [],
   "source": [
    "# Execute the simulation\n",
    "pset.execute(kernels, runtime=runtime, dt=dt, output_file=pfile)"
   ]
  },
  {
   "cell_type": "code",
   "execution_count": null,
   "metadata": {},
   "outputs": [],
   "source": [
    "# Open the trajectory dataset and plot the particles\n",
    "ds = xr.open_zarr(pfile.fname)\n",
    "plot_particles(ds)"
   ]
  },
  {
   "cell_type": "markdown",
   "metadata": {},
   "source": [
    "## Experiment 3: Idealised flow, wind, and waves\n",
    "In this third experiment we will simulate the dispersion of particles by the idealised flow, including the effects of wind and waves. Again, there may exist a density difference between the plastic particles and the background flow, resulting in a non-zero settling velocity until the particles become neutrally buoyant. Only particles at the surface are affected by the wind, but all particles will experience a depth-decaying Stokes drift."
   ]
  },
  {
   "cell_type": "code",
   "execution_count": 18,
   "metadata": {},
   "outputs": [],
   "source": [
    "# Setting this particular experiments settings\n",
    "fieldset.use_3D = True\n",
    "fieldset.use_mixing = False\n",
    "fieldset.use_biofouling = False\n",
    "fieldset.use_stokes = True\n",
    "fieldset.use_wind = True\n",
    "\n",
    "settings['plastictype']['plastic_density'] = 1027.25"
   ]
  },
  {
   "cell_type": "code",
   "execution_count": 19,
   "metadata": {},
   "outputs": [],
   "source": [
    "# Create a particle set and particle file for the experiment\n",
    "pset = pp.constructors.create_particleset(fieldset, settings, release_locations)\n",
    "pfile = pp.ParticleFile('example_idealised_flow_experiment_3.zarr', pset, settings=settings, outputdt=outputdt)\n",
    "\n",
    "# Create the applicable kernels to the plastic particles, replacing the longitudinal boundary kernel with a zonal boundary kernel\n",
    "kernels = pp.constructors.create_kernel(fieldset)\n",
    "kernels[-2] = ZonalBC"
   ]
  },
  {
   "cell_type": "code",
   "execution_count": null,
   "metadata": {},
   "outputs": [],
   "source": [
    "# Execute the simulation\n",
    "pset.execute(kernels, runtime=runtime, dt=dt, output_file=pfile)"
   ]
  },
  {
   "cell_type": "code",
   "execution_count": null,
   "metadata": {},
   "outputs": [],
   "source": [
    "# Open the trajectory dataset and plot the particles\n",
    "ds = xr.open_zarr(pfile.fname)\n",
    "plot_particles(ds)"
   ]
  },
  {
   "cell_type": "markdown",
   "metadata": {},
   "source": [
    "## Experiment 4: Idealised flow and biofouling\n",
    "In this fourth experiment we will simulate the dispersion of particles by the idealised flow, including the effects of biofouling. Here, the actual effects of biofouling are somewhat minor, as the integration time of the experiment is only four days long. However, there are small differences in the final particle positions when compared to the particles advected by the flow alone, specifically, the depth profile of the particles is noticeably different! Note, we specifically turn off the respiration term in order for the algae to grow as much as possible in the short four day period."
   ]
  },
  {
   "cell_type": "code",
   "execution_count": 22,
   "metadata": {},
   "outputs": [],
   "source": [
    "# Setting this particular experiments settings\n",
    "fieldset.use_3D = True\n",
    "fieldset.use_mixing = False\n",
    "fieldset.use_biofouling = True\n",
    "fieldset.use_stokes = False\n",
    "fieldset.use_wind = False\n",
    "\n",
    "settings['plastictype']['plastic_density'] = 1027.275"
   ]
  },
  {
   "cell_type": "code",
   "execution_count": 23,
   "metadata": {},
   "outputs": [],
   "source": [
    "# Create a particle set and particle file for the experiment\n",
    "pset = pp.constructors.create_particleset(fieldset, settings, release_locations)\n",
    "pfile = pp.ParticleFile('example_idealised_flow_experiment_4.zarr', pset, settings=settings, outputdt=outputdt)\n",
    "\n",
    "# Create the applicable kernels to the plastic particles, replacing the longitudinal boundary kernel with a zonal boundary kernel\n",
    "kernels = pp.constructors.create_kernel(fieldset)\n",
    "kernels[-2] = ZonalBC"
   ]
  },
  {
   "cell_type": "code",
   "execution_count": null,
   "metadata": {},
   "outputs": [],
   "source": [
    "# Execute the simulation\n",
    "pset.execute(kernels, runtime=runtime, dt=dt, output_file=pfile)"
   ]
  },
  {
   "cell_type": "code",
   "execution_count": null,
   "metadata": {},
   "outputs": [],
   "source": [
    "# Open the trajectory dataset and plot the particles\n",
    "ds = xr.open_zarr(pfile.fname)\n",
    "plot_particles(ds)"
   ]
  },
  {
   "cell_type": "markdown",
   "metadata": {},
   "source": [
    "## Experiment 5: All effects\n",
    "In this final experiment, we will simulate the dispersion of particles affected by all processes. That is, the particles will be advected by the idealised flow, including the effects of wind, waves, and biofouling."
   ]
  },
  {
   "cell_type": "code",
   "execution_count": 26,
   "metadata": {},
   "outputs": [],
   "source": [
    "# Setting this particular experiments settings\n",
    "fieldset.use_3D = True\n",
    "fieldset.use_mixing = False\n",
    "fieldset.use_biofouling = True\n",
    "fieldset.use_stokes = True\n",
    "fieldset.use_wind = True\n",
    "\n",
    "settings['plastictype']['plastic_density'] = 1027.275"
   ]
  },
  {
   "cell_type": "code",
   "execution_count": 27,
   "metadata": {},
   "outputs": [],
   "source": [
    "# Create a particle set and particle file for the experiment\n",
    "pset = pp.constructors.create_particleset(fieldset, settings, release_locations)\n",
    "pfile = pp.ParticleFile('example_idealised_flow_experiment_5.zarr', pset, settings=settings, outputdt=outputdt)\n",
    "\n",
    "# Create the applicable kernels to the plastic particles, replacing the longitudinal boundary kernel with a zonal boundary kernel\n",
    "kernels = pp.constructors.create_kernel(fieldset)\n",
    "kernels[-2] = ZonalBC"
   ]
  },
  {
   "cell_type": "code",
   "execution_count": null,
   "metadata": {},
   "outputs": [],
   "source": [
    "# Execute the simulation\n",
    "pset.execute(kernels, runtime=runtime, dt=dt, output_file=pfile)"
   ]
  },
  {
   "cell_type": "code",
   "execution_count": null,
   "metadata": {},
   "outputs": [],
   "source": [
    "# Open the trajectory dataset and plot the particles\n",
    "ds = xr.open_zarr(pfile.fname)\n",
    "plot_particles(ds)"
   ]
  },
  {
   "cell_type": "markdown",
   "metadata": {},
   "source": [
    "## Comparing the results of all five experiments\n",
    "With all five experiments complete, we now plot the final positions of all particles to compare the effects of the different kernels."
   ]
  },
  {
   "cell_type": "code",
   "execution_count": null,
   "metadata": {},
   "outputs": [],
   "source": [
    "# List of experiment filenames\n",
    "filenames = [f'example_idealised_flow_experiment_{i}.zarr' for i in range(1, 6)]\n",
    "\n",
    "# Create a list of datasets\n",
    "ds_list = []\n",
    "for filename in filenames:\n",
    "    ds_list.append(xr.open_zarr(filename))\n",
    "\n",
    "# For each dataset, plot the final locations of the particles, and print the depth range of the particles\n",
    "for i, pfile in enumerate(ds_list):\n",
    "    fig = plt.figure(figsize=(7, 2.5), constrained_layout=True)\n",
    "    \n",
    "    ax = fig.add_subplot(1,1,1)\n",
    "    ax.set_xlabel('Zonal distance [m]')\n",
    "    ax.set_ylabel('Meridional distance [m]')\n",
    "    ax.set_xlim(0, 2e4)\n",
    "    \n",
    "    ax.yaxis.set_inverted(True)\n",
    "    cb = ax.scatter(pfile['lon'].values[:,-2], pfile['lat'].values[:,-2], c=pfile['lon'].values[:,0], s=1)\n",
    "    plt.colorbar(cb, label='Initial zonal distance [m]')\n",
    "    plt.title(f'Experiment {i+1}')\n",
    "    plt.show()\n",
    "\n",
    "    print(f'Final depth range of particles in experiment {i+1}: {format(np.nanmin(pfile[\"z\"].values[:,-1]), '.4f')} to {format(np.nanmax(pfile[\"z\"].values[:,-1]), '.4f')} m')"
   ]
  }
 ],
 "metadata": {
  "kernelspec": {
   "display_name": "parcels-v3",
   "language": "python",
   "name": "python3"
  },
  "language_info": {
   "codemirror_mode": {
    "name": "ipython",
    "version": 3
   },
   "file_extension": ".py",
   "mimetype": "text/x-python",
   "name": "python",
   "nbconvert_exporter": "python",
   "pygments_lexer": "ipython3",
   "version": "3.11.4"
  }
 },
 "nbformat": 4,
 "nbformat_minor": 2
}
