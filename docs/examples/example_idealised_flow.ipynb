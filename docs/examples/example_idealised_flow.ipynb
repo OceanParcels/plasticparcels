{
 "cells": [
  {
   "cell_type": "markdown",
   "metadata": {},
   "source": [
    "# Exploring `plasticparcels` physics kernels in an idealised flow\n",
    "In this example, we will use `plasticparcels` and an idealised flow field to explore the different physics kernels available."
   ]
  },
  {
   "cell_type": "code",
   "execution_count": null,
   "metadata": {},
   "outputs": [],
   "source": [
    "# Library imports\n",
    "from datetime import datetime, timedelta\n",
    "import xarray as xr\n",
    "import numpy as np\n",
    "\n",
    "# parcels and plasticparcels imports\n",
    "import plasticparcels as pp\n",
    "\n",
    "# Plotting imports\n",
    "import matplotlib.pyplot as plt\n",
    "from matplotlib.colors import LogNorm\n",
    "import matplotlib.gridspec as gridspec\n",
    "import matplotlib.ticker as mticker"
   ]
  },
  {
   "cell_type": "markdown",
   "metadata": {},
   "source": [
    "## Load settings\n",
    "TODO: UPDATE\n",
    "We first load in the model settings, and define the simulation settings. For this simulation, we will release the particles at midnight on January 10th 2019. The particle trajectories will be 60 days long, saving the their position every 12 hours. We also set the advection timestep to 20 minutes. By default `plasticparcels` uses 3D advection, so we turn off the 3D-mode, as well as the biofouling behaviour. We ensure that the Stokes drift behaviour and wind-induced drift behaviour is on.\n",
    "\n",
    "We will also download the necessary release location files (if they are not already downloaded). In our case, as we expect our particles to remain in the Mediterranean Sea, we include `indices` in our ocean model to help speed up the file IO."
   ]
  },
  {
   "cell_type": "code",
   "execution_count": null,
   "metadata": {},
   "outputs": [],
   "source": [
    "# Create the idealised flow fields\n",
    "from example_idealised_flow import create_idealised_flow_fields\n",
    "\n",
    "'''# Load the model settings\n",
    "settings_file = 'docs/examples/example_idealised_settings.json'\n",
    "settings = pp.utils.load_settings(settings_file)\n",
    "\n",
    "# Download the mask and release data\n",
    "settings = pp.utils.download_plasticparcels_dataset('idealised', settings, 'input_data')\n",
    "'''"
   ]
  },
  {
   "cell_type": "code",
   "execution_count": null,
   "metadata": {},
   "outputs": [],
   "source": [
    "# Create the simulation settings\n",
    "settings['simulation'] = {\n",
    "    'startdate': datetime.strptime('2019-01-01-00:00:00', '%Y-%m-%d-%H:%M:%S'), # Start date of simulation\n",
    "    'runtime': timedelta(days=30),        # Runtime of simulation\n",
    "    'outputdt': timedelta(hours=12),      # Timestep of output\n",
    "    'dt': timedelta(minutes=20),          # Timestep of advection\n",
    "    }\n",
    "\n",
    "# Overwrite some settings\n",
    "settings['use_3D'] = False\n",
    "settings['use_biofouling'] = False\n",
    "settings['use_stokes'] = True\n",
    "settings['use_wind'] = True\n"
   ]
  },
  {
   "cell_type": "code",
   "execution_count": null,
   "metadata": {},
   "outputs": [],
   "source": [
    "# Create the plastic type settings\n",
    "settings['plastictype'] = {\n",
    "    'wind_coefficient' : 0.01,  # Percentage of wind to apply to particles\n",
    "    'plastic_diameter' : 0.001, # Plastic particle diameter (m)\n",
    "    'plastic_density' : 1030.,  # Plastic particle density (kg/m^3)\n",
    "}"
   ]
  },
  {
   "cell_type": "markdown",
   "metadata": {},
   "source": [
    "## Create a `FieldSet`, `ParticleSet` and `Kernel` list\n",
    "Here we create the necessary `Parcels` objects to run our simulation. The `FieldSet` contains all the hydrodynamic, wind, and wave data required for our simulation. The `ParticleSet` is a set of particles initialised uniformly over the domain, and the `Kernel` list is a list of kernels that will be applied to these particles. A useful overview of these `Parcels` objects can be found [here](https://docs.oceanparcels.org/en/latest/examples/tutorial_parcels_structure.html)."
   ]
  },
  {
   "cell_type": "code",
   "execution_count": null,
   "metadata": {},
   "outputs": [],
   "source": [
    "# Create the fieldset\n",
    "fieldset = pp.constructors.create_fieldset(settings)\n",
    "\n",
    "# Create the particleset\n",
    "pset = pp.constructors.create_particleset_from_map(fieldset, settings)\n",
    "\n",
    "# Create the applicable kernels to the plastic particles\n",
    "kernels = pp.constructors.create_kernel(fieldset)"
   ]
  },
  {
   "cell_type": "code",
   "execution_count": null,
   "metadata": {},
   "outputs": [],
   "source": [
    "runtime = settings['simulation']['runtime']\n",
    "dt = settings['simulation']['dt']\n",
    "outputdt = settings['simulation']['outputdt']"
   ]
  },
  {
   "cell_type": "markdown",
   "metadata": {},
   "source": [
    "## Run the simulation\n",
    "To run the simulation we create a `ParticleFile` that will store the trajectory information of all particles at the specified output timestep. We then `execute` the simulation with the specified runtime and timestepping."
   ]
  },
  {
   "cell_type": "code",
   "execution_count": null,
   "metadata": {},
   "outputs": [],
   "source": [
    "# Create the particle file where output will be stored\n",
    "pfile = pp.ParticleFile('example_idealised.zarr', pset, settings=settings, outputdt=outputdt)"
   ]
  },
  {
   "cell_type": "code",
   "execution_count": null,
   "metadata": {},
   "outputs": [],
   "source": [
    "# Execute the simulation\n",
    "pset.execute(kernels, runtime=runtime, dt=dt, output_file=pfile)"
   ]
  },
  {
   "cell_type": "markdown",
   "metadata": {},
   "source": [
    "## Plot the trajectories\n",
    "Finally, we produce a simple 'spaghetti' plot and and a concentration map of the trajectories to visualise their pathways. To understand how to work with `PlasticParcels` output, please see the `Parcels` tutorial [here](https://docs.oceanparcels.org/en/latest/examples/tutorial_output.html)."
   ]
  },
  {
   "cell_type": "markdown",
   "metadata": {},
   "source": []
  }
 ],
 "metadata": {
  "language_info": {
   "name": "python"
  }
 },
 "nbformat": 4,
 "nbformat_minor": 2
}
