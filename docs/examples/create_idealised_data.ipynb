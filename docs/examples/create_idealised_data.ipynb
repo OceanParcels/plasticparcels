{
 "cells": [
  {
   "cell_type": "code",
   "execution_count": 1,
   "metadata": {},
   "outputs": [],
   "source": [
    "from datetime import timedelta\n",
    "\n",
    "import matplotlib.pyplot as plt\n",
    "import numpy as np\n",
    "import xarray as xr\n",
    "from IPython.display import HTML\n",
    "from matplotlib.animation import FuncAnimation\n",
    "\n",
    "import parcels"
   ]
  },
  {
   "cell_type": "code",
   "execution_count": 11,
   "metadata": {},
   "outputs": [],
   "source": [
    "def bickleyjet_fieldset(times, xdim=51, ydim=51):\n",
    "    \"\"\"Bickley Jet Field as implemented in Hadjighasem et al 2017,\n",
    "    10.1063/1.4982720\"\"\"\n",
    "    U0 = 0.06266\n",
    "    L = 1770.0\n",
    "    r0 = 6371.0\n",
    "    k1 = 2 * 1 / r0\n",
    "    k2 = 2 * 2 / r0\n",
    "    k3 = 2 * 3 / r0\n",
    "    eps1 = 0.075\n",
    "    eps2 = 0.4\n",
    "    eps3 = 0.3\n",
    "    c3 = 0.461 * U0\n",
    "    c2 = 0.205 * U0\n",
    "    c1 = c3 + ((np.sqrt(5) - 1) / 2.0) * (k2 / k1) * (c2 - c3)\n",
    "\n",
    "    a, b = np.pi * r0, 7000.0  # domain size\n",
    "    lon = np.linspace(0, a, xdim, dtype=np.float32)\n",
    "    lat = np.linspace(-b / 2, b / 2, ydim, dtype=np.float32)\n",
    "    dx, dy = lon[2] - lon[1], lat[2] - lat[1]\n",
    "\n",
    "    U = np.zeros((times.size, lat.size, lon.size), dtype=np.float32)\n",
    "    V = np.zeros((times.size, lat.size, lon.size), dtype=np.float32)\n",
    "    #P = np.zeros((times.size, lat.size, lon.size), dtype=np.float32)\n",
    "\n",
    "    for i in range(lon.size):\n",
    "        for j in range(lat.size):\n",
    "            x1 = lon[i] - dx / 2\n",
    "            x2 = lat[j] - dy / 2\n",
    "            for t in range(len(times)):\n",
    "                time = times[t]\n",
    "\n",
    "                f1 = eps1 * np.exp(-1j * k1 * c1 * time)\n",
    "                f2 = eps2 * np.exp(-1j * k2 * c2 * time)\n",
    "                f3 = eps3 * np.exp(-1j * k3 * c3 * time)\n",
    "                F1 = f1 * np.exp(1j * k1 * x1)\n",
    "                F2 = f2 * np.exp(1j * k2 * x1)\n",
    "                F3 = f3 * np.exp(1j * k3 * x1)\n",
    "                G = np.real(np.sum([F1, F2, F3]))\n",
    "                G_x = np.real(np.sum([1j * k1 * F1, 1j * k2 * F2, 1j * k3 * F3]))\n",
    "                U[t, j, i] = (\n",
    "                    U0 / (np.cosh(x2 / L) ** 2)\n",
    "                    + 2 * U0 * np.sinh(x2 / L) / (np.cosh(x2 / L) ** 3) * G\n",
    "                )\n",
    "                V[t, j, i] = U0 * L * (1.0 / np.cosh(x2 / L)) ** 2 * G_x\n",
    "\n",
    "    data = {\"U\": U, \"V\": V}#, \"P\": P}\n",
    "    dimensions = {\"lon\": lon, \"lat\": lat, \"time\": times}\n",
    "    allow_time_extrapolation = True if len(times) == 1 else False\n",
    "    fieldset = parcels.FieldSet.from_data(\n",
    "        data, dimensions, mesh=\"flat\", allow_time_extrapolation=allow_time_extrapolation\n",
    "    )\n",
    "    fieldset.U.interp_method = \"cgrid_velocity\"\n",
    "    fieldset.V.interp_method = \"cgrid_velocity\"\n",
    "    return fieldset\n",
    "\n",
    "\n",
    "fieldsetBJ = bickleyjet_fieldset(times=np.arange(0, 1.1, 0.1) * 86400)"
   ]
  },
  {
   "cell_type": "code",
   "execution_count": 12,
   "metadata": {},
   "outputs": [],
   "source": [
    "fieldsetBJ.add_constant(\"halo_west\", fieldsetBJ.U.grid.lon[0])\n",
    "fieldsetBJ.add_constant(\"halo_east\", fieldsetBJ.U.grid.lon[-1])\n",
    "fieldsetBJ.add_periodic_halo(zonal=True)\n",
    "\n",
    "\n",
    "def ZonalBC(particle, fieldset, time):\n",
    "    if particle.lon < fieldset.halo_west:\n",
    "        particle_dlon += fieldset.halo_east - fieldset.halo_west\n",
    "    elif particle.lon > fieldset.halo_east:\n",
    "        particle_dlon -= fieldset.halo_east - fieldset.halo_west"
   ]
  },
  {
   "cell_type": "markdown",
   "metadata": {},
   "source": [
    "#3D case"
   ]
  },
  {
   "cell_type": "code",
   "execution_count": 31,
   "metadata": {},
   "outputs": [],
   "source": [
    "def bickleyjet_fieldset_3d(times, xdim=51, ydim=51, zdim=11):\n",
    "    \"\"\"A Bickley Jet Field with 3D linear decay based on Hadjighasem et al 2017,\n",
    "    10.1063/1.4982720\"\"\"\n",
    "    U0 = 0.06266\n",
    "    L = 1770.0\n",
    "    r0 = 6371.0\n",
    "    k1 = 2 * 1 / r0\n",
    "    k2 = 2 * 2 / r0\n",
    "    k3 = 2 * 3 / r0\n",
    "    eps1 = 0.075\n",
    "    eps2 = 0.4\n",
    "    eps3 = 0.3\n",
    "    c3 = 0.461 * U0\n",
    "    c2 = 0.205 * U0\n",
    "    c1 = c3 + ((np.sqrt(5) - 1) / 2.0) * (k2 / k1) * (c2 - c3)\n",
    "\n",
    "    a, b = np.pi * r0, 7000.0  # domain size\n",
    "    lon = np.linspace(0, a, xdim, dtype=np.float32)\n",
    "    lat = np.linspace(-b / 2, b / 2, ydim, dtype=np.float32)\n",
    "    depth = np.linspace(0, 1000, zdim, dtype=np.float32)\n",
    "    dx, dy = lon[2] - lon[1], lat[2] - lat[1]\n",
    "\n",
    "    U = np.zeros((times.size, depth.size, lat.size, lon.size), dtype=np.float32)\n",
    "    V = np.zeros((times.size, depth.size, lat.size, lon.size), dtype=np.float32)\n",
    "    W = np.zeros((times.size, depth.size, lat.size, lon.size), dtype=np.float32)\n",
    "\n",
    "    for i in range(lon.size):\n",
    "        for j in range(lat.size):\n",
    "            x1 = lon[i] - dx / 2\n",
    "            x2 = lat[j] - dy / 2\n",
    "            for t in range(len(times)):\n",
    "                time = times[t]\n",
    "\n",
    "                f1 = eps1 * np.exp(-1j * k1 * c1 * time)\n",
    "                f2 = eps2 * np.exp(-1j * k2 * c2 * time)\n",
    "                f3 = eps3 * np.exp(-1j * k3 * c3 * time)\n",
    "                F1 = f1 * np.exp(1j * k1 * x1)\n",
    "                F2 = f2 * np.exp(1j * k2 * x1)\n",
    "                F3 = f3 * np.exp(1j * k3 * x1)\n",
    "                G = np.real(np.sum([F1, F2, F3]))\n",
    "                G_x = np.real(np.sum([1j * k1 * F1, 1j * k2 * F2, 1j * k3 * F3]))\n",
    "                U[t, 0, j, i] = (\n",
    "                    U0 / (np.cosh(x2 / L) ** 2)\n",
    "                    + 2 * U0 * np.sinh(x2 / L) / (np.cosh(x2 / L) ** 3) * G\n",
    "                )\n",
    "                V[t, 0, j, i] = U0 * L * (1.0 / np.cosh(x2 / L)) ** 2 * G_x\n",
    "    \n",
    "    for k in range(1, depth.size):\n",
    "        U[:, k, :, :] = U[:, 0, :, :] * ( (depth.size - k) / depth.size)\n",
    "        V[:, k, :, :] = V[:, 0, :, :] * ( (depth.size - k) / depth.size)\n",
    "\n",
    "    data = {\"U\": U, \"V\": V, \"W\": W}\n",
    "    dimensions = {\"lon\": lon, \"lat\": lat, \"depth\": depth, \"time\": times}\n",
    "    allow_time_extrapolation = True if len(times) == 1 else False\n",
    "    fieldset = parcels.FieldSet.from_data(\n",
    "        data, dimensions, mesh=\"flat\", allow_time_extrapolation=allow_time_extrapolation\n",
    "    )\n",
    "    fieldset.U.interp_method = \"cgrid_velocity\"\n",
    "    fieldset.V.interp_method = \"cgrid_velocity\"\n",
    "    fieldset.W.interp_method = \"cgrid_velocity\"\n",
    "    return fieldset\n",
    "\n",
    "def add_uniform_temp_salt_field(fieldset, times):\n",
    "    \"\"\" Add a uniform temperature and salinity field to the fieldset.\n",
    "    The temperature/salinity field is time-invariant and has a linear decay with depth.\n",
    "    Of course, this makes no sense in reality, but it is a simple example.\"\"\"\n",
    "    lon = fieldset.U.grid.lon # Is this right?\n",
    "    lat = fieldset.U.grid.lat\n",
    "    depth = fieldset.U.grid.depth\n",
    "\n",
    "    T = np.zeros((times.size, depth.size, lat.size, lon.size), dtype=np.float32)\n",
    "    S = np.zeros((times.size, depth.size, lat.size, lon.size), dtype=np.float32)\n",
    "\n",
    "    T[:, 0, :, :] = 20.0 # TODO: make sure the units are correct!\n",
    "    S[:, 0, :, :] = 35.0\n",
    "\n",
    "    for d in range(1, depth.size):\n",
    "        T[:, d, :, :] = T[:, 0, :, :] * ( (depth.size - 0.5 * d) / depth.size)\n",
    "        S[:, d, :, :] = S[:, 0, :, :] * ( (depth.size - 0.5 * d) / depth.size)\n",
    "\n",
    "    data = {\"conservative_temperature\": T, \"absolute_salinity\": S}\n",
    "\n",
    "    dimensions = {\"lon\": lon, \"lat\": lat, \"depth\": depth, \"time\": times}\n",
    "    allow_time_extrapolation = True if len(times) == 1 else False\n",
    "    fieldsetTS = parcels.FieldSet.from_data(\n",
    "        data, dimensions, mesh=\"flat\", allow_time_extrapolation=allow_time_extrapolation\n",
    "    )\n",
    "    fieldset.add_field(fieldsetTS.conservative_temperature)\n",
    "    fieldset.add_field(fieldsetTS.absolute_salinity)\n",
    "\n",
    "    return fieldset\n",
    "\n",
    "def add_biogeochemistry_field(fieldset, times):\n",
    "    lon = fieldset.U.grid.lon # Is this right?\n",
    "    lat = fieldset.U.grid.lat\n",
    "    depth = fieldset.U.grid.depth\n",
    "\n",
    "    "
   ]
  },
  {
   "cell_type": "code",
   "execution_count": null,
   "metadata": {},
   "outputs": [],
   "source": [
    "def create_preyfieldBJ(lx, ly, res, nprey=int(1e5), Pavg = float(sys.argv[9])):\n",
    "    # Randomly distribute the prey over the grid\n",
    "    dataP = np.zeros(((ly//res)+2, (lx//res)+2))\n",
    "    gc = (ly/res)*(lx/res) \n",
    "    add = 1 * gc / nprey * Pavg\n",
    "    for n in range(nprey):\n",
    "        i = 1 + np.random.binomial(dataP.shape[0]-2, 0.5)\n",
    "        j = np.random.randint(1,dataP.shape[1]-1)\n",
    "        dataP[i,j] += add\n",
    "    assert dataP.max() <= 1\n",
    "    assert dataP.min() >= 0\n",
    "    return dataP\n",
    "\n",
    "    fieldP = Field('prey', dataP, grid=fieldset.U.grid,\n",
    "                   interp_method='nearest', mesh='flat')\n",
    "    fieldset.add_field(fieldP) # prey field added to the velocity FieldSet\n"
   ]
  },
  {
   "cell_type": "code",
   "execution_count": null,
   "metadata": {},
   "outputs": [],
   "source": [
    "fieldsetBJ3D = bickleyjet_fieldset_3d(times=np.arange(0, 1.1, 0.1) * 86400)\n",
    "fieldsetBJ3D = add_uniform_temp_salt_field(fieldsetBJ3D, np.arange(0, 1.1, 0.1) * 86400)\n"
   ]
  },
  {
   "cell_type": "code",
   "execution_count": 32,
   "metadata": {},
   "outputs": [
    {
     "data": {
      "text/plain": [
       "<matplotlib.colorbar.Colorbar at 0x177346810>"
      ]
     },
     "execution_count": 32,
     "metadata": {},
     "output_type": "execute_result"
    },
    {
     "data": {
      "image/png": "[encoded data removed]",
      "text/plain": [
       "<Figure size 640x480 with 3 Axes>"
      ]
     },
     "metadata": {},
     "output_type": "display_data"
    }
   ],
   "source": [
    "xx,yy = np.meshgrid(fieldsetBJ3D.U.grid.lon,fieldsetBJ3D.U.grid.lat)\n",
    "cb = plt.pcolormesh(xx, yy, fieldsetBJ3D.V.data[0,0,:,:])\n",
    "plt.colorbar(cb)\n",
    "\n",
    "cb = plt.pcolormesh(xx, yy, fieldsetBJ3D.V.data[0,-1,:,:])\n",
    "plt.colorbar(cb)"
   ]
  },
  {
   "cell_type": "code",
   "execution_count": null,
   "metadata": {},
   "outputs": [],
   "source": []
  },
  {
   "cell_type": "code",
   "execution_count": null,
   "metadata": {},
   "outputs": [],
   "source": []
  },
  {
   "cell_type": "code",
   "execution_count": 33,
   "metadata": {},
   "outputs": [],
   "source": []
  },
  {
   "cell_type": "code",
   "execution_count": 34,
   "metadata": {},
   "outputs": [],
   "source": [
    "fieldsetBJ3D = add_uniform_temp_salt_field(fieldsetBJ3D, np.arange(0, 1.1, 0.1) * 86400)"
   ]
  },
  {
   "cell_type": "code",
   "execution_count": null,
   "metadata": {},
   "outputs": [],
   "source": []
  }
 ],
 "metadata": {
  "kernelspec": {
   "display_name": "py3_parcels",
   "language": "python",
   "name": "python3"
  },
  "language_info": {
   "codemirror_mode": {
    "name": "ipython",
    "version": 3
   },
   "file_extension": ".py",
   "mimetype": "text/x-python",
   "name": "python",
   "nbconvert_exporter": "python",
   "pygments_lexer": "ipython3",
   "version": "3.11.4"
  }
 },
 "nbformat": 4,
 "nbformat_minor": 2
}
